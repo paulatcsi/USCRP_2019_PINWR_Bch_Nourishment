{
 "cells": [
  {
   "cell_type": "markdown",
   "metadata": {},
   "source": [
    "## Sea Turtle and Beach Replenishment: 2008 - 2020   EDA\n",
    "### Pea Island National Wildlife Refuge\n",
    "### Outer Banks, North Carolina"
   ]
  },
  {
   "cell_type": "markdown",
   "metadata": {},
   "source": [
    "Questions:</br>\n",
    "- Did turtle nesting frequency increase or decrease as a result of beach replenishment?\n",
    "\n",
    "- How did (or did) replenishment impact clutch counts (is this one relevant?)?\n",
    "- How did (or did) replenishment impact hatch success?\n",
    "- How did (or did) replenishment impact emergence?\n",
    "\n",
    "If we answer yes to one or more of these questions, why?"
   ]
  },
  {
   "cell_type": "markdown",
   "metadata": {},
   "source": [
    "### TOC:\n",
    "#### I Interesting (maybe) Numbers\n",
    "\n",
    "#### II Nest Counts\n",
    "\n",
    "#### III Clutch Counts\n",
    "\n",
    "#### IV Hatch Success\n",
    "\n",
    "#### V Emergence Success\n",
    "\n",
    "#### VI Relocation"
   ]
  },
  {
   "cell_type": "code",
   "execution_count": 1,
   "metadata": {},
   "outputs": [],
   "source": [
    "# Load libraries, set paths to data, and load turtle nesting data into a pandas dataframe (df):\n",
    "import pandas as pd\n",
    "import numpy as np\n",
    "import matplotlib.pyplot as plt\n",
    "import seaborn as sns \n",
    "from scipy import stats\n",
    "from statsmodels.formula.api import ols\n",
    "from statsmodels.stats import weightstats\n",
    "import datetime\n",
    "\n",
    "data_path = '../data/Turtles/'\n",
    "plot_path = '../plots_n_graphics/nMDS_Paired_Radar_Plots/'\n",
    "\n",
    "xlsx_file = 'Pea Island Sea Turtle Summary 1980_2020_ECU.xlsx'\n",
    "data_file = '../Final_Data_Sets/Pea Island Sea Turtle Summary 1980 2020 AOI.csv'     #'AR_2008_2020.csv'\n",
    "\n",
    "#df = pd.read_excel(io=data_path+xlsx_file, sheet_name='AR_2012_2020')\n",
    "df = pd.read_csv(data_file)"
   ]
  },
  {
   "cell_type": "markdown",
   "metadata": {},
   "source": []
  },
  {
   "cell_type": "code",
   "execution_count": 2,
   "metadata": {},
   "outputs": [
    {
     "name": "stdout",
     "output_type": "stream",
     "text": [
      "<class 'pandas.core.frame.DataFrame'>\n",
      "Int64Index: 180 entries, 119 to 298\n",
      "Data columns (total 23 columns):\n",
      " #   Column      Non-Null Count  Dtype  \n",
      "---  ------      --------------  -----  \n",
      " 0   Beach       180 non-null    object \n",
      " 1   County      180 non-null    object \n",
      " 2   Activity #  180 non-null    int64  \n",
      " 3   Nest #      116 non-null    float64\n",
      " 4   Activity D  180 non-null    object \n",
      " 5   Year        180 non-null    int64  \n",
      " 6   Species     180 non-null    object \n",
      " 7   Latitude    180 non-null    float64\n",
      " 8   Longitude   180 non-null    float64\n",
      " 9   Location    147 non-null    object \n",
      " 10  Relocation  116 non-null    object \n",
      " 11  Total Eggs  68 non-null     float64\n",
      " 12  Relocati_1  180 non-null    int64  \n",
      " 13  Relocati_2  68 non-null     object \n",
      " 14  Relocati_3  2 non-null      object \n",
      " 15  Relocati_4  49 non-null     float64\n",
      " 16  Relocati_5  48 non-null     float64\n",
      " 17  Clutch Cou  104 non-null    float64\n",
      " 18  Hatch Succ  110 non-null    float64\n",
      " 19  Emergence   110 non-null    float64\n",
      " 20  Area        180 non-null    object \n",
      " 21  Epoch       180 non-null    object \n",
      " 22  Nests       180 non-null    int64  \n",
      "dtypes: float64(9), int64(4), object(10)\n",
      "memory usage: 33.8+ KB\n"
     ]
    }
   ],
   "source": [
    "df = df.loc[df['Year'] >= 2000].copy()\n",
    "\n",
    "#df['Observation_Date'] = pd.to_datetime(df['Activity D'])\n",
    "#month = '0'+df['Activity Date'].str[0]\n",
    "#year = '20'+df['Activity Date'].str[5:7]\n",
    "#df['Survey'] = year+'_'+month\n",
    "\n",
    "df.loc[df['Year'] < 2014, 'Epoch'] = '2000-2013'\n",
    "df.loc[(df['Year'] >= 2014) & (df['Year'] <= 2018), 'Epoch'] = '2014-2018'\n",
    "df.loc[df['Year'] >= 2019, 'Epoch'] = '2019-2020'\n",
    "\n",
    "df['Nests'] = 1\n",
    "df.info()"
   ]
  },
  {
   "cell_type": "markdown",
   "metadata": {},
   "source": [
    "## % Nests Relocated Overall"
   ]
  },
  {
   "cell_type": "code",
   "execution_count": 3,
   "metadata": {},
   "outputs": [
    {
     "name": "stdout",
     "output_type": "stream",
     "text": [
      "['relocated' nan 'in situ']\n",
      "Number of nests left in place (2000-2020): 48 % of total = 26.67\n",
      "Number of nests relocated one or more times (2000-2020): 68 % of total = 37.78\n",
      "Number of nests whose relocation status is unknown (2000-2020): 64 % of total = 35.56\n",
      "Total records in dataset: 180\n"
     ]
    }
   ],
   "source": [
    "A = df['Relocation'].loc[df['Relocation'] == 'in situ'].count()\n",
    "B = df['Relocation'].loc[df['Relocation'] == 'relocated'].count()\n",
    "C = len(df['Relocation'].loc[(df['Relocation'] != 'in situ') & (df['Relocation'] != 'relocated')])\n",
    "\n",
    "D = round( ((A/len(df)) * 100), 2)\n",
    "E = round( ((B/len(df)) * 100), 2)\n",
    "F = round( ((C/len(df)) * 100), 2)\n",
    "\n",
    "print(df['Relocation'].unique())\n",
    "print('Number of nests left in place (2000-2020):', A, '% of total =', D)\n",
    "print('Number of nests relocated one or more times (2000-2020):',B, '% of total =', E)\n",
    "print('Number of nests whose relocation status is unknown (2000-2020):',C, '% of total =', F)\n",
    "print('Total records in dataset:', len(df))"
   ]
  },
  {
   "cell_type": "code",
   "execution_count": 4,
   "metadata": {
    "collapsed": true,
    "jupyter": {
     "outputs_hidden": true
    },
    "tags": []
   },
   "outputs": [
    {
     "data": {
      "text/html": [
       "<div>\n",
       "<style scoped>\n",
       "    .dataframe tbody tr th:only-of-type {\n",
       "        vertical-align: middle;\n",
       "    }\n",
       "\n",
       "    .dataframe tbody tr th {\n",
       "        vertical-align: top;\n",
       "    }\n",
       "\n",
       "    .dataframe thead th {\n",
       "        text-align: right;\n",
       "    }\n",
       "</style>\n",
       "<table border=\"1\" class=\"dataframe\">\n",
       "  <thead>\n",
       "    <tr style=\"text-align: right;\">\n",
       "      <th></th>\n",
       "      <th>Beach</th>\n",
       "      <th>County</th>\n",
       "      <th>Activity #</th>\n",
       "      <th>Nest #</th>\n",
       "      <th>Activity D</th>\n",
       "      <th>Year</th>\n",
       "      <th>Species</th>\n",
       "      <th>Latitude</th>\n",
       "      <th>Longitude</th>\n",
       "      <th>Location</th>\n",
       "      <th>...</th>\n",
       "      <th>Relocati_2</th>\n",
       "      <th>Relocati_3</th>\n",
       "      <th>Relocati_4</th>\n",
       "      <th>Relocati_5</th>\n",
       "      <th>Clutch Cou</th>\n",
       "      <th>Hatch Succ</th>\n",
       "      <th>Emergence</th>\n",
       "      <th>Area</th>\n",
       "      <th>Epoch</th>\n",
       "      <th>Nests</th>\n",
       "    </tr>\n",
       "  </thead>\n",
       "  <tbody>\n",
       "    <tr>\n",
       "      <th>119</th>\n",
       "      <td>Pea Island NWR</td>\n",
       "      <td>Dare</td>\n",
       "      <td>8</td>\n",
       "      <td>7.0</td>\n",
       "      <td>6/26/00</td>\n",
       "      <td>2000</td>\n",
       "      <td>Cc</td>\n",
       "      <td>35.61131</td>\n",
       "      <td>-75.46563</td>\n",
       "      <td>NaN</td>\n",
       "      <td>...</td>\n",
       "      <td>6/24/00</td>\n",
       "      <td>NaN</td>\n",
       "      <td>35.65060</td>\n",
       "      <td>-75.47311</td>\n",
       "      <td>101.0</td>\n",
       "      <td>69.3100</td>\n",
       "      <td>68.32</td>\n",
       "      <td>Replenished</td>\n",
       "      <td>2000-2013</td>\n",
       "      <td>1</td>\n",
       "    </tr>\n",
       "    <tr>\n",
       "      <th>120</th>\n",
       "      <td>Pea Island NWR</td>\n",
       "      <td>Dare</td>\n",
       "      <td>13</td>\n",
       "      <td>NaN</td>\n",
       "      <td>6/30/00</td>\n",
       "      <td>2000</td>\n",
       "      <td>Cc</td>\n",
       "      <td>35.60709</td>\n",
       "      <td>-75.46482</td>\n",
       "      <td>NaN</td>\n",
       "      <td>...</td>\n",
       "      <td>NaN</td>\n",
       "      <td>NaN</td>\n",
       "      <td>NaN</td>\n",
       "      <td>NaN</td>\n",
       "      <td>NaN</td>\n",
       "      <td>NaN</td>\n",
       "      <td>NaN</td>\n",
       "      <td>Replenished</td>\n",
       "      <td>2000-2013</td>\n",
       "      <td>1</td>\n",
       "    </tr>\n",
       "    <tr>\n",
       "      <th>121</th>\n",
       "      <td>Pea Island NWR</td>\n",
       "      <td>Dare</td>\n",
       "      <td>14</td>\n",
       "      <td>NaN</td>\n",
       "      <td>6/30/00</td>\n",
       "      <td>2000</td>\n",
       "      <td>Cc</td>\n",
       "      <td>35.61748</td>\n",
       "      <td>-75.46691</td>\n",
       "      <td>NaN</td>\n",
       "      <td>...</td>\n",
       "      <td>NaN</td>\n",
       "      <td>NaN</td>\n",
       "      <td>NaN</td>\n",
       "      <td>NaN</td>\n",
       "      <td>NaN</td>\n",
       "      <td>NaN</td>\n",
       "      <td>NaN</td>\n",
       "      <td>Replenished</td>\n",
       "      <td>2000-2013</td>\n",
       "      <td>1</td>\n",
       "    </tr>\n",
       "    <tr>\n",
       "      <th>122</th>\n",
       "      <td>Pea Island NWR</td>\n",
       "      <td>Dare</td>\n",
       "      <td>26</td>\n",
       "      <td>NaN</td>\n",
       "      <td>8/10/00</td>\n",
       "      <td>2000</td>\n",
       "      <td>Cc</td>\n",
       "      <td>35.60638</td>\n",
       "      <td>-75.46467</td>\n",
       "      <td>NaN</td>\n",
       "      <td>...</td>\n",
       "      <td>NaN</td>\n",
       "      <td>NaN</td>\n",
       "      <td>NaN</td>\n",
       "      <td>NaN</td>\n",
       "      <td>NaN</td>\n",
       "      <td>NaN</td>\n",
       "      <td>NaN</td>\n",
       "      <td>Replenished</td>\n",
       "      <td>2000-2013</td>\n",
       "      <td>1</td>\n",
       "    </tr>\n",
       "    <tr>\n",
       "      <th>123</th>\n",
       "      <td>Pea Island NWR</td>\n",
       "      <td>Dare</td>\n",
       "      <td>4</td>\n",
       "      <td>4.0</td>\n",
       "      <td>7/18/01</td>\n",
       "      <td>2001</td>\n",
       "      <td>Cc</td>\n",
       "      <td>35.63747</td>\n",
       "      <td>-75.47025</td>\n",
       "      <td>NaN</td>\n",
       "      <td>...</td>\n",
       "      <td>7/18/01</td>\n",
       "      <td>NaN</td>\n",
       "      <td>35.65393</td>\n",
       "      <td>-75.47352</td>\n",
       "      <td>114.0</td>\n",
       "      <td>42.1100</td>\n",
       "      <td>4.39</td>\n",
       "      <td>Control</td>\n",
       "      <td>2000-2013</td>\n",
       "      <td>1</td>\n",
       "    </tr>\n",
       "    <tr>\n",
       "      <th>...</th>\n",
       "      <td>...</td>\n",
       "      <td>...</td>\n",
       "      <td>...</td>\n",
       "      <td>...</td>\n",
       "      <td>...</td>\n",
       "      <td>...</td>\n",
       "      <td>...</td>\n",
       "      <td>...</td>\n",
       "      <td>...</td>\n",
       "      <td>...</td>\n",
       "      <td>...</td>\n",
       "      <td>...</td>\n",
       "      <td>...</td>\n",
       "      <td>...</td>\n",
       "      <td>...</td>\n",
       "      <td>...</td>\n",
       "      <td>...</td>\n",
       "      <td>...</td>\n",
       "      <td>...</td>\n",
       "      <td>...</td>\n",
       "      <td>...</td>\n",
       "    </tr>\n",
       "    <tr>\n",
       "      <th>294</th>\n",
       "      <td>Pea Island NWR</td>\n",
       "      <td>Dare</td>\n",
       "      <td>24</td>\n",
       "      <td>NaN</td>\n",
       "      <td>7/23/20</td>\n",
       "      <td>2020</td>\n",
       "      <td>Cm</td>\n",
       "      <td>35.63623</td>\n",
       "      <td>-75.47050</td>\n",
       "      <td>3.4 mi south of New Inlet</td>\n",
       "      <td>...</td>\n",
       "      <td>NaN</td>\n",
       "      <td>NaN</td>\n",
       "      <td>NaN</td>\n",
       "      <td>NaN</td>\n",
       "      <td>NaN</td>\n",
       "      <td>NaN</td>\n",
       "      <td>NaN</td>\n",
       "      <td>Control</td>\n",
       "      <td>2019-2020</td>\n",
       "      <td>1</td>\n",
       "    </tr>\n",
       "    <tr>\n",
       "      <th>295</th>\n",
       "      <td>Pea Island NWR</td>\n",
       "      <td>Dare</td>\n",
       "      <td>25</td>\n",
       "      <td>13.0</td>\n",
       "      <td>7/24/20</td>\n",
       "      <td>2020</td>\n",
       "      <td>Cc</td>\n",
       "      <td>35.62110</td>\n",
       "      <td>-75.46790</td>\n",
       "      <td>4.4 miles south of New Inlet</td>\n",
       "      <td>...</td>\n",
       "      <td>NaN</td>\n",
       "      <td>NaN</td>\n",
       "      <td>NaN</td>\n",
       "      <td>NaN</td>\n",
       "      <td>84.0</td>\n",
       "      <td>80.9524</td>\n",
       "      <td>75.00</td>\n",
       "      <td>Replenished</td>\n",
       "      <td>2019-2020</td>\n",
       "      <td>1</td>\n",
       "    </tr>\n",
       "    <tr>\n",
       "      <th>296</th>\n",
       "      <td>Pea Island NWR</td>\n",
       "      <td>Dare</td>\n",
       "      <td>26</td>\n",
       "      <td>14.0</td>\n",
       "      <td>7/24/20</td>\n",
       "      <td>2020</td>\n",
       "      <td>Cc</td>\n",
       "      <td>35.62693</td>\n",
       "      <td>-75.46870</td>\n",
       "      <td>4.0 miles south of New Inlet</td>\n",
       "      <td>...</td>\n",
       "      <td>7/24/20</td>\n",
       "      <td>NaN</td>\n",
       "      <td>35.62692</td>\n",
       "      <td>NaN</td>\n",
       "      <td>110.0</td>\n",
       "      <td>68.1800</td>\n",
       "      <td>63.64</td>\n",
       "      <td>Replenished</td>\n",
       "      <td>2019-2020</td>\n",
       "      <td>1</td>\n",
       "    </tr>\n",
       "    <tr>\n",
       "      <th>297</th>\n",
       "      <td>Pea Island NWR</td>\n",
       "      <td>Dare</td>\n",
       "      <td>28</td>\n",
       "      <td>15.0</td>\n",
       "      <td>7/25/20</td>\n",
       "      <td>2020</td>\n",
       "      <td>Cc</td>\n",
       "      <td>35.61409</td>\n",
       "      <td>-75.46670</td>\n",
       "      <td>4.9 mi south of New Inlet</td>\n",
       "      <td>...</td>\n",
       "      <td>7/25/20</td>\n",
       "      <td>NaN</td>\n",
       "      <td>35.61396</td>\n",
       "      <td>-75.46680</td>\n",
       "      <td>110.0</td>\n",
       "      <td>79.0900</td>\n",
       "      <td>74.55</td>\n",
       "      <td>Replenished</td>\n",
       "      <td>2019-2020</td>\n",
       "      <td>1</td>\n",
       "    </tr>\n",
       "    <tr>\n",
       "      <th>298</th>\n",
       "      <td>Pea Island NWR</td>\n",
       "      <td>Dare</td>\n",
       "      <td>32</td>\n",
       "      <td>17.0</td>\n",
       "      <td>7/30/20</td>\n",
       "      <td>2020</td>\n",
       "      <td>Cc</td>\n",
       "      <td>35.63722</td>\n",
       "      <td>-75.47040</td>\n",
       "      <td>3.3 miles south of New Inlet</td>\n",
       "      <td>...</td>\n",
       "      <td>7/30/20</td>\n",
       "      <td>NaN</td>\n",
       "      <td>35.63723</td>\n",
       "      <td>-75.47070</td>\n",
       "      <td>93.0</td>\n",
       "      <td>93.5500</td>\n",
       "      <td>78.49</td>\n",
       "      <td>Control</td>\n",
       "      <td>2019-2020</td>\n",
       "      <td>1</td>\n",
       "    </tr>\n",
       "  </tbody>\n",
       "</table>\n",
       "<p>180 rows × 23 columns</p>\n",
       "</div>"
      ],
      "text/plain": [
       "              Beach County  Activity #  Nest # Activity D  Year Species  \\\n",
       "119  Pea Island NWR   Dare           8     7.0    6/26/00  2000      Cc   \n",
       "120  Pea Island NWR   Dare          13     NaN    6/30/00  2000      Cc   \n",
       "121  Pea Island NWR   Dare          14     NaN    6/30/00  2000      Cc   \n",
       "122  Pea Island NWR   Dare          26     NaN    8/10/00  2000      Cc   \n",
       "123  Pea Island NWR   Dare           4     4.0    7/18/01  2001      Cc   \n",
       "..              ...    ...         ...     ...        ...   ...     ...   \n",
       "294  Pea Island NWR   Dare          24     NaN    7/23/20  2020      Cm   \n",
       "295  Pea Island NWR   Dare          25    13.0    7/24/20  2020      Cc   \n",
       "296  Pea Island NWR   Dare          26    14.0    7/24/20  2020      Cc   \n",
       "297  Pea Island NWR   Dare          28    15.0    7/25/20  2020      Cc   \n",
       "298  Pea Island NWR   Dare          32    17.0    7/30/20  2020      Cc   \n",
       "\n",
       "     Latitude  Longitude                      Location  ... Relocati_2  \\\n",
       "119  35.61131  -75.46563                           NaN  ...    6/24/00   \n",
       "120  35.60709  -75.46482                           NaN  ...        NaN   \n",
       "121  35.61748  -75.46691                           NaN  ...        NaN   \n",
       "122  35.60638  -75.46467                           NaN  ...        NaN   \n",
       "123  35.63747  -75.47025                           NaN  ...    7/18/01   \n",
       "..        ...        ...                           ...  ...        ...   \n",
       "294  35.63623  -75.47050     3.4 mi south of New Inlet  ...        NaN   \n",
       "295  35.62110  -75.46790  4.4 miles south of New Inlet  ...        NaN   \n",
       "296  35.62693  -75.46870  4.0 miles south of New Inlet  ...    7/24/20   \n",
       "297  35.61409  -75.46670     4.9 mi south of New Inlet  ...    7/25/20   \n",
       "298  35.63722  -75.47040  3.3 miles south of New Inlet  ...    7/30/20   \n",
       "\n",
       "     Relocati_3  Relocati_4 Relocati_5 Clutch Cou  Hatch Succ  Emergence  \\\n",
       "119         NaN    35.65060  -75.47311      101.0     69.3100      68.32   \n",
       "120         NaN         NaN        NaN        NaN         NaN        NaN   \n",
       "121         NaN         NaN        NaN        NaN         NaN        NaN   \n",
       "122         NaN         NaN        NaN        NaN         NaN        NaN   \n",
       "123         NaN    35.65393  -75.47352      114.0     42.1100       4.39   \n",
       "..          ...         ...        ...        ...         ...        ...   \n",
       "294         NaN         NaN        NaN        NaN         NaN        NaN   \n",
       "295         NaN         NaN        NaN       84.0     80.9524      75.00   \n",
       "296         NaN    35.62692        NaN      110.0     68.1800      63.64   \n",
       "297         NaN    35.61396  -75.46680      110.0     79.0900      74.55   \n",
       "298         NaN    35.63723  -75.47070       93.0     93.5500      78.49   \n",
       "\n",
       "            Area      Epoch  Nests  \n",
       "119  Replenished  2000-2013      1  \n",
       "120  Replenished  2000-2013      1  \n",
       "121  Replenished  2000-2013      1  \n",
       "122  Replenished  2000-2013      1  \n",
       "123      Control  2000-2013      1  \n",
       "..           ...        ...    ...  \n",
       "294      Control  2019-2020      1  \n",
       "295  Replenished  2019-2020      1  \n",
       "296  Replenished  2019-2020      1  \n",
       "297  Replenished  2019-2020      1  \n",
       "298      Control  2019-2020      1  \n",
       "\n",
       "[180 rows x 23 columns]"
      ]
     },
     "execution_count": 4,
     "metadata": {},
     "output_type": "execute_result"
    }
   ],
   "source": [
    "df"
   ]
  },
  {
   "cell_type": "markdown",
   "metadata": {},
   "source": [
    "## Nesting Success Plots"
   ]
  },
  {
   "cell_type": "code",
   "execution_count": 8,
   "metadata": {
    "tags": []
   },
   "outputs": [
    {
     "data": {
      "text/plain": [
       "''"
      ]
     },
     "execution_count": 8,
     "metadata": {},
     "output_type": "execute_result"
    },
    {
     "data": {
      "image/png": "[encoded data removed]",
      "text/plain": [
       "<Figure size 1440x360 with 2 Axes>"
      ]
     },
     "metadata": {},
     "output_type": "display_data"
    }
   ],
   "source": [
    "X = df.groupby(['Year','Area','Species']).agg({\n",
    "    'Nests':'sum',\n",
    "    'Epoch':'first',\n",
    "    'Clutch Cou':'mean',\n",
    "    'Hatch Succ':'mean',\n",
    "    'Emergence':'mean',\n",
    "    'Relocation':'first'\n",
    "    }).reset_index()\n",
    "\n",
    "#    'Observation_Date':'first',\n",
    "\n",
    "sns.set_style('whitegrid')\n",
    "# plt.ylabel('Nest Counts')\n",
    "\n",
    "g = sns.catplot(x='Epoch', y=\"Nests\", col=\"Area\", \n",
    "                data=X.query(\"Species == 'Cc'\"),\n",
    "                kind=\"box\",\n",
    "                orient='v',\n",
    "                height=5, aspect=2,\n",
    "                showmeans=True,\n",
    "                showfliers=False,\n",
    "                notch=False)\n",
    "g.set_axis_labels('', 'Number of Nests', fontsize=14)\n",
    "sns.despine()\n",
    "plt.suptitle('Nest Counts Observed Pre-Post Nourishment - Careta careta', fontsize=18)\n",
    "plt.tight_layout()\n",
    ";"
   ]
  },
  {
   "cell_type": "code",
   "execution_count": 9,
   "metadata": {},
   "outputs": [
    {
     "data": {
      "text/plain": [
       "''"
      ]
     },
     "execution_count": 9,
     "metadata": {},
     "output_type": "execute_result"
    },
    {
     "data": {
      "image/png": "[encoded data removed]",
      "text/plain": [
       "<Figure size 1440x360 with 2 Axes>"
      ]
     },
     "metadata": {},
     "output_type": "display_data"
    }
   ],
   "source": [
    "g = sns.catplot(x='Epoch', y=\"Nests\", col=\"Area\", \n",
    "                data=X.query(\"Species == 'Cc'\"),\n",
    "                kind=\"bar\",\n",
    "                orient='v',\n",
    "                height=5, aspect=2,\n",
    "                )\n",
    "g.set_axis_labels('', 'Avg. Number of Nests pe Year', fontsize=14)\n",
    "sns.despine()\n",
    "plt.suptitle('Nest Counts Observed Per Year Pre-Post Nourishment - Careta careta', fontsize=18)\n",
    "plt.tight_layout()\n",
    ";"
   ]
  },
  {
   "cell_type": "code",
   "execution_count": 10,
   "metadata": {},
   "outputs": [
    {
     "data": {
      "text/plain": [
       "''"
      ]
     },
     "execution_count": 10,
     "metadata": {},
     "output_type": "execute_result"
    },
    {
     "data": {
      "image/png": "[encoded data removed]",
      "text/plain": [
       "<Figure size 720x360 with 1 Axes>"
      ]
     },
     "metadata": {},
     "output_type": "display_data"
    }
   ],
   "source": [
    "g = sns.catplot(x='Year', y=\"Nests\", \n",
    "                data=X.query(\"Species == 'Cc'\"),\n",
    "                kind=\"bar\",\n",
    "                orient='v',\n",
    "                height=5, aspect=2,\n",
    ")\n",
    "g.set_axis_labels('Epoch', 'Number of Nests', fontsize=14)\n",
    "sns.despine()\n",
    "plt.suptitle('Nest Counts Observed Pre-Post Nourishment - Careta careta', fontsize=18)\n",
    "plt.tight_layout()\n",
    ";"
   ]
  },
  {
   "cell_type": "code",
   "execution_count": null,
   "metadata": {},
   "outputs": [],
   "source": []
  },
  {
   "cell_type": "code",
   "execution_count": 11,
   "metadata": {},
   "outputs": [
    {
     "data": {
      "text/plain": [
       "''"
      ]
     },
     "execution_count": 11,
     "metadata": {},
     "output_type": "execute_result"
    },
    {
     "data": {
      "image/png": "[encoded data removed]",
      "text/plain": [
       "<Figure size 1440x360 with 2 Axes>"
      ]
     },
     "metadata": {},
     "output_type": "display_data"
    }
   ],
   "source": [
    "g = sns.catplot(x='Epoch', y=\"Nests\", col=\"Area\", \n",
    "                data=X.query(\"Species == 'Cm'\"),\n",
    "                kind=\"box\",\n",
    "                orient='v',\n",
    "                height=5, aspect=2,\n",
    "                showmeans=True,\n",
    "                showfliers=False,\n",
    "                notch=False)\n",
    "g.set_axis_labels('Epoch', 'Number of Nests', fontsize=14)\n",
    "sns.despine()\n",
    "plt.suptitle('Nest Counts Observed Pre-Post Nourishment - Chelonia mydas', fontsize=18)\n",
    "plt.tight_layout()\n",
    ";"
   ]
  },
  {
   "cell_type": "code",
   "execution_count": 13,
   "metadata": {},
   "outputs": [
    {
     "data": {
      "text/plain": [
       "''"
      ]
     },
     "execution_count": 13,
     "metadata": {},
     "output_type": "execute_result"
    },
    {
     "data": {
      "image/png": "[encoded data removed]",
      "text/plain": [
       "<Figure size 1440x360 with 2 Axes>"
      ]
     },
     "metadata": {},
     "output_type": "display_data"
    }
   ],
   "source": [
    "g = sns.catplot(x='Epoch', y=\"Nests\", col=\"Area\", \n",
    "                data=X.query(\"Species == 'Cm'\"),\n",
    "                kind=\"bar\",\n",
    "                orient='v',\n",
    "                height=5, aspect=2,\n",
    "                )\n",
    "g.set_axis_labels('Epoch', 'Avg. Number of Nests per Year', fontsize=14)\n",
    "sns.despine()\n",
    "plt.suptitle('Nest Counts Observed Per Year Pre-Post Nourishment - Chelonia mydas', fontsize=18)\n",
    "plt.tight_layout()\n",
    ";"
   ]
  },
  {
   "cell_type": "markdown",
   "metadata": {},
   "source": [
    "## Hatch Success"
   ]
  },
  {
   "cell_type": "code",
   "execution_count": 15,
   "metadata": {},
   "outputs": [
    {
     "data": {
      "text/plain": [
       "''"
      ]
     },
     "execution_count": 15,
     "metadata": {},
     "output_type": "execute_result"
    },
    {
     "data": {
      "image/png": "[encoded data removed]",
      "text/plain": [
       "<Figure size 1440x360 with 2 Axes>"
      ]
     },
     "metadata": {},
     "output_type": "display_data"
    }
   ],
   "source": [
    "g = sns.catplot(x='Epoch', y=\"Hatch Succ\", col=\"Area\", \n",
    "                data=X.query(\"Species == 'Cc'\"),\n",
    "                kind=\"box\",\n",
    "                orient='v',\n",
    "                height=5, aspect=2,\n",
    "                showmeans=True,\n",
    "                showfliers=False,\n",
    "                notch=False)\n",
    "g.set_axis_labels('', 'Hatch Success (%)', fontsize=14)\n",
    "sns.despine()\n",
    "plt.suptitle('Hatch Success Observed Pre-Post Nourishment - - Careta careta', fontsize=18)\n",
    "plt.tight_layout()\n",
    ";"
   ]
  },
  {
   "cell_type": "code",
   "execution_count": 17,
   "metadata": {},
   "outputs": [
    {
     "data": {
      "text/plain": [
       "''"
      ]
     },
     "execution_count": 17,
     "metadata": {},
     "output_type": "execute_result"
    },
    {
     "data": {
      "image/png": "[encoded data removed]",
      "text/plain": [
       "<Figure size 1440x360 with 2 Axes>"
      ]
     },
     "metadata": {},
     "output_type": "display_data"
    }
   ],
   "source": [
    "g = sns.catplot(x='Epoch', y=\"Hatch Succ\", col=\"Area\", \n",
    "                data=X.query(\"Species == 'Cc'\"),\n",
    "                kind=\"bar\",\n",
    "                orient='v',\n",
    "                height=5, aspect=2,\n",
    "                )\n",
    "g.set_axis_labels('', 'Hatch Success (%)', fontsize=14)\n",
    "sns.despine()\n",
    "plt.suptitle('Hatch Success Observed Pre-Post Nourishment - - Careta careta', fontsize=18)\n",
    "plt.tight_layout()\n",
    ";"
   ]
  },
  {
   "cell_type": "code",
   "execution_count": 18,
   "metadata": {},
   "outputs": [
    {
     "data": {
      "text/plain": [
       "''"
      ]
     },
     "execution_count": 18,
     "metadata": {},
     "output_type": "execute_result"
    },
    {
     "data": {
      "image/png": "[encoded data removed]",
      "text/plain": [
       "<Figure size 720x360 with 1 Axes>"
      ]
     },
     "metadata": {},
     "output_type": "display_data"
    }
   ],
   "source": [
    "g = sns.catplot(x='Year', y=\"Hatch Succ\", \n",
    "                data=X.query(\"Species == 'Cc'\"),\n",
    "                kind=\"bar\",\n",
    "                orient='v',\n",
    "                height=5, aspect=2,\n",
    ")\n",
    "g.set_axis_labels('', 'Hatch Success (% of Clutch)', fontsize=14)\n",
    "sns.despine()\n",
    "plt.suptitle('Hatch Success as % of Clutch Observed Pre-Post Nourishment - Careta careta', fontsize=18)\n",
    "plt.tight_layout()\n",
    ";"
   ]
  },
  {
   "cell_type": "code",
   "execution_count": null,
   "metadata": {},
   "outputs": [],
   "source": []
  },
  {
   "cell_type": "code",
   "execution_count": 19,
   "metadata": {},
   "outputs": [
    {
     "data": {
      "text/plain": [
       "''"
      ]
     },
     "execution_count": 19,
     "metadata": {},
     "output_type": "execute_result"
    },
    {
     "data": {
      "image/png": "[encoded data removed]",
      "text/plain": [
       "<Figure size 1440x360 with 2 Axes>"
      ]
     },
     "metadata": {},
     "output_type": "display_data"
    }
   ],
   "source": [
    "g = sns.catplot(x='Epoch', y=\"Emergence\", col=\"Area\", \n",
    "                data=X.query(\"Species == 'Cc'\"),\n",
    "                kind=\"box\",\n",
    "                orient='v',\n",
    "                height=5, aspect=2,\n",
    "                showmeans=True,\n",
    "                showfliers=False,\n",
    "                notch=False)\n",
    "g.set_axis_labels('', 'Emergence Success (%)', fontsize=14)\n",
    "sns.despine()\n",
    "plt.suptitle('Emergence Success Observed Pre-Post Nourishment - - Careta careta', fontsize=18)\n",
    "plt.tight_layout()\n",
    ";"
   ]
  },
  {
   "cell_type": "code",
   "execution_count": 20,
   "metadata": {},
   "outputs": [
    {
     "data": {
      "text/plain": [
       "''"
      ]
     },
     "execution_count": 20,
     "metadata": {},
     "output_type": "execute_result"
    },
    {
     "data": {
      "image/png": "[encoded data removed]",
      "text/plain": [
       "<Figure size 1440x360 with 2 Axes>"
      ]
     },
     "metadata": {},
     "output_type": "display_data"
    }
   ],
   "source": [
    "g = sns.catplot(x='Epoch', y=\"Emergence\", col=\"Area\", \n",
    "                data=X.query(\"Species == 'Cc'\"),\n",
    "                kind=\"bar\",\n",
    "                orient='v',\n",
    "                height=5, aspect=2,\n",
    "                )\n",
    "g.set_axis_labels('', 'Emergence Success (%)', fontsize=14)\n",
    "sns.despine()\n",
    "plt.suptitle('Emergence Success Observed Pre-Post Nourishment - - Careta careta', fontsize=18)\n",
    "plt.tight_layout()\n",
    ";"
   ]
  },
  {
   "cell_type": "code",
   "execution_count": null,
   "metadata": {},
   "outputs": [],
   "source": []
  },
  {
   "cell_type": "code",
   "execution_count": null,
   "metadata": {},
   "outputs": [],
   "source": []
  },
  {
   "cell_type": "code",
   "execution_count": null,
   "metadata": {},
   "outputs": [],
   "source": [
    "df['Nests'].loc[(df['Epoch'] == '2000-2013') & (df['Species'] == 'Cc')].sum()"
   ]
  },
  {
   "cell_type": "code",
   "execution_count": null,
   "metadata": {},
   "outputs": [],
   "source": [
    "X = df.groupby(['Species', 'Epoch']).sum().reset_index()\n",
    "sns.barplot(x='\n",
    "X#sns.boxplot(x='Epoch', data=X)"
   ]
  },
  {
   "cell_type": "code",
   "execution_count": null,
   "metadata": {},
   "outputs": [],
   "source": []
  },
  {
   "cell_type": "code",
   "execution_count": null,
   "metadata": {},
   "outputs": [],
   "source": []
  },
  {
   "cell_type": "code",
   "execution_count": null,
   "metadata": {},
   "outputs": [],
   "source": [
    "df"
   ]
  },
  {
   "cell_type": "markdown",
   "metadata": {},
   "source": [
    "# END OF NEW STUFF"
   ]
  },
  {
   "cell_type": "code",
   "execution_count": null,
   "metadata": {},
   "outputs": [],
   "source": [
    "# limit treatment transects to T01 - T11 (drop T12 - T16) in order to balance control vs treatment\n",
    "df = df.loc[df['TransectID'].str[1:3].astype(int) <= 11]\n",
    "\n",
    "df['TransectID'].unique()"
   ]
  },
  {
   "cell_type": "markdown",
   "metadata": {},
   "source": [
    "# 1. Interesting Bits:"
   ]
  },
  {
   "cell_type": "code",
   "execution_count": null,
   "metadata": {},
   "outputs": [],
   "source": [
    "print('Number of green sea turtles (species=Cm) in data:', df['Species'].loc[df['Species'] == 'Cm'].count())\n",
    "print('Number of loggerhead turtles (Species=Cc) in data:', df['Species'].loc[df['Species'] == 'Cc'].count())"
   ]
  },
  {
   "cell_type": "code",
   "execution_count": null,
   "metadata": {},
   "outputs": [],
   "source": [
    "df['Relocation'].unique()"
   ]
  },
  {
   "cell_type": "code",
   "execution_count": null,
   "metadata": {},
   "outputs": [],
   "source": []
  },
  {
   "cell_type": "code",
   "execution_count": null,
   "metadata": {},
   "outputs": [],
   "source": [
    "print('Number of data records of nests left in place (2008-2012):',df['Relocation'].loc[df['Relocation'] == 'in situ'].count())\n",
    "print('Number of data records of nests relocated one or more times (2008-2012):',df['Relocation'].loc[df['Relocation'] == 'relocated'].count())\n",
    "print('Number of data records of nests whose relocation status is unknown (2008-2012):',len(df['Relocation'].loc[(df['Relocation'] != 'in situ') & (df['Relocation'] != 'relocated')]))"
   ]
  },
  {
   "cell_type": "code",
   "execution_count": null,
   "metadata": {},
   "outputs": [],
   "source": [
    "c = ['Total Eggs Laid By Female','Clutch Count','Hatch Success','Emergence Success']\n",
    "df[c].describe()"
   ]
  },
  {
   "cell_type": "markdown",
   "metadata": {},
   "source": [
    "# II.   Nest Counts"
   ]
  },
  {
   "cell_type": "markdown",
   "metadata": {},
   "source": [
    "## a.) Nest Counts (by Area and Epoch, mixed species):"
   ]
  },
  {
   "cell_type": "code",
   "execution_count": null,
   "metadata": {},
   "outputs": [],
   "source": [
    "pd.crosstab(df['Area'], df['Epoch'], margins=True)"
   ]
  },
  {
   "cell_type": "code",
   "execution_count": null,
   "metadata": {},
   "outputs": [],
   "source": [
    "sns.countplot(x='Epoch', hue='Area', data=df, hue_order=['Control','Treatment'])\n",
    "\n",
    "sns.set_style('whitegrid')\n",
    "# plt.ylabel('Nest Counts')\n",
    "plt.title('Nest Counts Observed in Study Area - Pre-Post Nourishment - All Species')\n",
    "sns.despine()\n",
    "plt.tight_layout()\n",
    ";"
   ]
  },
  {
   "cell_type": "code",
   "execution_count": null,
   "metadata": {},
   "outputs": [],
   "source": [
    "pd.crosstab(df['Area'], df['Year'], margins=True)"
   ]
  },
  {
   "cell_type": "code",
   "execution_count": null,
   "metadata": {},
   "outputs": [],
   "source": [
    "fig = plt.figure(figsize=(14,5))\n",
    "sns.set_style(\"whitegrid\")\n",
    "\n",
    "sns.countplot(x='Year', hue='Area', data=df, hue_order=['Control','Treatment'])\n",
    "\n",
    "# plt.ylabel('Nest Counts')\n",
    "plt.title('Nest Counts Observed in Study Area - by Year - All Species')\n",
    "sns.despine()\n",
    "plt.tight_layout()\n",
    ";"
   ]
  },
  {
   "cell_type": "markdown",
   "metadata": {},
   "source": [
    "## b.) Nest Counts (by Area and Epoch, partitioned by species):"
   ]
  },
  {
   "cell_type": "code",
   "execution_count": null,
   "metadata": {},
   "outputs": [],
   "source": [
    "pd.crosstab(df['Species'], df['Year'], margins=True)"
   ]
  },
  {
   "cell_type": "code",
   "execution_count": null,
   "metadata": {},
   "outputs": [],
   "source": [
    "fig = plt.figure(figsize=(14,5))\n",
    "#sns.countplot(x='Species',  hue='Year', data=df)\n",
    "g = sns.catplot(x=\"Species\", col=\"Year\", data=df, kind=\"count\", height=4, aspect=.7, legend=True)\n",
    "#plt.ylabel('Nest Counts', fontsize=18)\n",
    "(g.set_axis_labels(\"\", \"Nest Counts\")\n",
    "    .set_xticklabels([\"Cc\", \"Cm\"], fontsize=21)\n",
    "    .set(yticks=[0.0,2.5,5.0,7.5,10.0,12.5,15.0,17.5,20.0,22.5])\n",
    "    .set_yticklabels(['0.0','2.5','5.0','7.5','10.0','12.5','15.0','17.5','20.0','22.5'], fontsize=16)\n",
    "    .set_titles(\"{col_name} {col_var}\", fontsize=18)\n",
    "    .set(ylim=(0, 20))\n",
    "    .add_legend()\n",
    "    .despine(left=True))\n",
    "\n",
    "plt.suptitle('Nest Counts by Species Observed in Study Area - by Year', fontsize=21)\n",
    "plt.tight_layout(h_pad=7)\n",
    "plt.savefig(plot_path+'Turtles_Species_Counts_Plot_4_19.pdf');"
   ]
  },
  {
   "cell_type": "markdown",
   "metadata": {},
   "source": [
    "### Aggregate obs (Groupby) by year and area --> two new dataframes:"
   ]
  },
  {
   "cell_type": "code",
   "execution_count": null,
   "metadata": {},
   "outputs": [],
   "source": [
    "dfgm = df.groupby(['Year','Area']).mean()\n",
    "dfgm.reset_index(drop=False, inplace=True)\n",
    "\n",
    "dfgs = df.groupby(['Year','Area']).sum()\n",
    "dfgs.reset_index(drop=False, inplace=True)"
   ]
  },
  {
   "cell_type": "markdown",
   "metadata": {},
   "source": [
    "# II. Clutch Counts:"
   ]
  },
  {
   "cell_type": "markdown",
   "metadata": {},
   "source": [
    "### a.) Description:"
   ]
  },
  {
   "cell_type": "code",
   "execution_count": null,
   "metadata": {},
   "outputs": [],
   "source": [
    "df['Clutch Count'].describe()"
   ]
  },
  {
   "cell_type": "code",
   "execution_count": null,
   "metadata": {},
   "outputs": [],
   "source": [
    "sns.kdeplot(x='Clutch Count', data=df);"
   ]
  },
  {
   "cell_type": "markdown",
   "metadata": {},
   "source": [
    "### b.) Total Clutch Counts - Control and Treatment Areas by Year:"
   ]
  },
  {
   "cell_type": "code",
   "execution_count": null,
   "metadata": {},
   "outputs": [],
   "source": [
    "cc_stbl = pd.pivot_table(df, values='Clutch Count', index=['Area'], columns=['Year'], aggfunc=np.sum)\n",
    "cc_stbl"
   ]
  },
  {
   "cell_type": "code",
   "execution_count": null,
   "metadata": {},
   "outputs": [],
   "source": [
    "fig, ax01 = plt.subplots(figsize=(21,5))\n",
    "\n",
    "X1 = df.loc[df['Area'] == 'Control']\n",
    "X2 = df.loc[df['Area'] == 'Treatment']\n",
    "\n",
    "sns.barplot(x='Year', y='Clutch Count', hue='Area', data=dfgs, ax=ax01)\n",
    "\n",
    "plt.xticks(rotation=90)\n",
    "ax01.set_ylabel('Total Clutch Count')\n",
    "ax01.set_xlabel('')\n",
    "ax01.set_title('Pea Island Sea Turtle - Total (Summed) Clutch Count Area by Year - 2008-2020')\n",
    "sns.despine()\n",
    "\n",
    "plt.tight_layout();"
   ]
  },
  {
   "cell_type": "markdown",
   "metadata": {},
   "source": [
    "### c.) Mean Clutch Counts - Control and Treatment Areas by Year"
   ]
  },
  {
   "cell_type": "code",
   "execution_count": null,
   "metadata": {},
   "outputs": [],
   "source": [
    "cc_tbl = pd.pivot_table(df, values='Clutch Count', index=['Area'], columns=['Year'], aggfunc=np.mean)\n",
    "cc_tbl"
   ]
  },
  {
   "cell_type": "code",
   "execution_count": null,
   "metadata": {},
   "outputs": [],
   "source": [
    "fig, ax01 = plt.subplots(figsize=(21,5))\n",
    "\n",
    "X1 = df.loc[df['Area'] == 'Control']\n",
    "X2 = df.loc[df['Area'] == 'Treatment']\n",
    "\n",
    "sns.barplot(x='Year', y='Clutch Count', hue='Area', data=dfgm, ax=ax01)\n",
    "\n",
    "plt.xticks(rotation=90)\n",
    "ax01.set_ylabel('Mean Nest Clutch Count')\n",
    "ax01.set_xlabel('')\n",
    "ax01.set_title('Pea Island Sea Turtle - Mean Clutch Count by Area by Year - 2008-2020')\n",
    "sns.despine()\n",
    "plt.tight_layout();"
   ]
  },
  {
   "cell_type": "code",
   "execution_count": null,
   "metadata": {},
   "outputs": [],
   "source": []
  },
  {
   "cell_type": "markdown",
   "metadata": {},
   "source": [
    "# III. Hatch Success\n",
    "\n",
    "% of clutch (eggs) successfully hatched?"
   ]
  },
  {
   "cell_type": "markdown",
   "metadata": {},
   "source": [
    "### a.) Description:"
   ]
  },
  {
   "cell_type": "code",
   "execution_count": null,
   "metadata": {},
   "outputs": [],
   "source": [
    "df['Hatch Success'].describe()"
   ]
  },
  {
   "cell_type": "code",
   "execution_count": null,
   "metadata": {},
   "outputs": [],
   "source": [
    "sns.kdeplot(x='Hatch Success', data=df);"
   ]
  },
  {
   "cell_type": "markdown",
   "metadata": {},
   "source": [
    "### b.) Percent Successfully Hatched - Control and Treatment Areas by Year"
   ]
  },
  {
   "cell_type": "code",
   "execution_count": null,
   "metadata": {},
   "outputs": [],
   "source": [
    "fig, ax01 = plt.subplots(figsize=(21,5))\n",
    "\n",
    "sns.barplot(x='Year', y='Hatch Success', hue='Area', data=dfgm, ax=ax01)\n",
    "\n",
    "plt.xticks(rotation=90)\n",
    "ax01.set_ylabel('Hatch Success (%)')\n",
    "ax01.set_xlabel('')\n",
    "ax01.set_title('Pea Island Sea Turtle - Mean Hatch Success % - 2008-2020')\n",
    "sns.despine()\n",
    "plt.tight_layout();"
   ]
  },
  {
   "cell_type": "code",
   "execution_count": null,
   "metadata": {},
   "outputs": [],
   "source": [
    "df['Hatch Success'].loc[(df['Year'] == 2016) & (df['Area'] == 'Treatment') ].mean()"
   ]
  },
  {
   "cell_type": "markdown",
   "metadata": {},
   "source": [
    "# IV. Emergence Success"
   ]
  },
  {
   "cell_type": "markdown",
   "metadata": {},
   "source": [
    "### a.) Description:"
   ]
  },
  {
   "cell_type": "code",
   "execution_count": null,
   "metadata": {},
   "outputs": [],
   "source": [
    "df['Emergence Success'].describe()"
   ]
  },
  {
   "cell_type": "markdown",
   "metadata": {},
   "source": [
    "### NOTE: minimum percentage -1.02?"
   ]
  },
  {
   "cell_type": "code",
   "execution_count": null,
   "metadata": {},
   "outputs": [],
   "source": [
    "df.loc[df['Emergence Success'] < 0.0]"
   ]
  },
  {
   "cell_type": "markdown",
   "metadata": {},
   "source": [
    "### Bad number???"
   ]
  },
  {
   "cell_type": "code",
   "execution_count": null,
   "metadata": {},
   "outputs": [],
   "source": [
    "sns.kdeplot(x='Emergence Success', data=df);"
   ]
  },
  {
   "cell_type": "markdown",
   "metadata": {},
   "source": [
    "### b.) Percent Emergence - Control and Treatment Areas by Year"
   ]
  },
  {
   "cell_type": "code",
   "execution_count": null,
   "metadata": {},
   "outputs": [],
   "source": [
    "fig, ax01 = plt.subplots(figsize=(21,5))\n",
    "\n",
    "sns.barplot(x='Year', y='Emergence Success', hue='Area', data=dfgm, ax=ax01)\n",
    "\n",
    "plt.xticks(rotation=90)\n",
    "ax01.set_ylabel('Emergence Success (%)')\n",
    "ax01.set_xlabel('')\n",
    "ax01.set_title('Pea Island Sea Turtle - Mean Emergence Success % - 2008-2020')\n",
    "sns.despine()\n",
    "plt.tight_layout();"
   ]
  },
  {
   "cell_type": "code",
   "execution_count": null,
   "metadata": {},
   "outputs": [],
   "source": []
  },
  {
   "cell_type": "markdown",
   "metadata": {},
   "source": [
    "# V. Relocation Impacts:"
   ]
  },
  {
   "cell_type": "markdown",
   "metadata": {},
   "source": [
    "### a.) Hatch Success for Cc and Cm species, relocated and in situ nest sites"
   ]
  },
  {
   "cell_type": "code",
   "execution_count": null,
   "metadata": {},
   "outputs": [],
   "source": [
    "fig0 = plt.figure(figsize=(21,14))\n",
    "\n",
    "ax01 = fig0.add_subplot(311)\n",
    "ax02 = fig0.add_subplot(312)\n",
    "\n",
    "Xcc = df.loc[df['Species'] == 'Cc']\n",
    "Xcm = df.loc[df['Species'] == 'Cm']\n",
    "sns.barplot(x='Year', y='Hatch Success', hue='Relocation', data=Xcc, ci=None, ax=ax01)\n",
    "ax01.set_title('Hatch Success - Species Cc 2008-2020')\n",
    "sns.barplot(x='Year', y='Hatch Success', hue='Relocation', data=Xcm, ci=None, ax=ax02)\n",
    "ax02.set_title('Hatch Success - Species Cm 2008-2020')\n",
    "plt.tight_layout()"
   ]
  },
  {
   "cell_type": "markdown",
   "metadata": {},
   "source": [
    "### b.) Emergence Success for Cc and Cm species, relocated and in situ nest sites"
   ]
  },
  {
   "cell_type": "code",
   "execution_count": null,
   "metadata": {},
   "outputs": [],
   "source": [
    "fig0 = plt.figure(figsize=(21,14))\n",
    "\n",
    "ax01 = fig0.add_subplot(311)\n",
    "ax02 = fig0.add_subplot(312)\n",
    "\n",
    "Xcc = df.loc[df['Species'] == 'Cc']\n",
    "Xcm = df.loc[df['Species'] == 'Cm']\n",
    "sns.barplot(x='Year', y='Emergence Success', hue='Relocation', data=Xcc, ci=None, ax=ax01)\n",
    "ax01.set_title('Emergence Success - Species Cc 2008-2020')\n",
    "sns.barplot(x='Year', y='Emergence Success', hue='Relocation', data=Xcm, ci=None, ax=ax02)\n",
    "ax02.set_title('Emergence Success - Species Cm 2008-2020')\n",
    "plt.tight_layout()"
   ]
  },
  {
   "cell_type": "code",
   "execution_count": null,
   "metadata": {},
   "outputs": [],
   "source": []
  },
  {
   "cell_type": "code",
   "execution_count": null,
   "metadata": {},
   "outputs": [],
   "source": []
  },
  {
   "cell_type": "markdown",
   "metadata": {},
   "source": [
    "# Spare Parts and Deprecated Bits:"
   ]
  },
  {
   "cell_type": "markdown",
   "metadata": {},
   "source": [
    "## T-tests\n"
   ]
  },
  {
   "cell_type": "markdown",
   "metadata": {},
   "source": [
    "t-tests (two sample-are the means equivalent?)\n",
    "\n",
    "Did nourishment have a notable impact on turtle nesting success? (clutch count, hatch success, emergence)\n",
    "\n",
    "$H_o$: there is no difference in the mean [clutch count, hatch success, emergence] before and after nourishment\n",
    "\n",
    "$H_1$: there is sufficient difference between the mean [clutch count, hatch success, emergence] to suggest impact"
   ]
  },
  {
   "cell_type": "markdown",
   "metadata": {},
   "source": [
    "### Check for homoscedasticity first..."
   ]
  },
  {
   "cell_type": "code",
   "execution_count": null,
   "metadata": {},
   "outputs": [],
   "source": [
    "pd.crosstab(df['Area'], df['Epoch'], values=df['Emergence'], aggfunc=np.var) "
   ]
  },
  {
   "cell_type": "code",
   "execution_count": null,
   "metadata": {},
   "outputs": [],
   "source": [
    "pd.crosstab(df['Area'], df['Epoch'], values=df['Clutch Count'], aggfunc=np.var) "
   ]
  },
  {
   "cell_type": "code",
   "execution_count": null,
   "metadata": {},
   "outputs": [],
   "source": [
    "pd.crosstab(df['Area'], df['Epoch'], values=df['Hatch Success'], aggfunc=np.var) "
   ]
  },
  {
   "cell_type": "markdown",
   "metadata": {},
   "source": [
    "### Hatch Success:"
   ]
  },
  {
   "cell_type": "code",
   "execution_count": null,
   "metadata": {},
   "outputs": [],
   "source": [
    "# compares hatch success in the control area, pre vs post-nourishment\n",
    "stats.ttest_ind(df['Hatch Success'].loc[(df['Area']=='Control') &\n",
    "                                           (df['Epoch'] == 'Prenourishment')],\n",
    "                df['Hatch Success'].loc[(df['Area']=='Control') &\n",
    "                                           (df['Epoch'] == 'PostNourishment')], \n",
    "                nan_policy='omit', equal_var=True)"
   ]
  },
  {
   "cell_type": "code",
   "execution_count": null,
   "metadata": {},
   "outputs": [],
   "source": [
    "# compares hatch success in the treatment area, pre vs post-nourishment\n",
    "stats.ttest_ind(df['Hatch Success'].loc[(df['Area']=='Treatment') &\n",
    "                                           (df['Epoch'] == 'Prenourishment')],\n",
    "                df['Hatch Success'].loc[(df['Area']=='Treatment') &\n",
    "                                           (df['Epoch'] == 'PostNourishment')], \n",
    "                nan_policy='omit', equal_var=False)"
   ]
  },
  {
   "cell_type": "markdown",
   "metadata": {},
   "source": [
    "### Clutch Count:"
   ]
  },
  {
   "cell_type": "code",
   "execution_count": null,
   "metadata": {},
   "outputs": [],
   "source": [
    "# compares hatch success in the control area, pre vs post-nourishment\n",
    "stats.ttest_ind(df['Clutch Count'].loc[(df['Area']=='Control') &\n",
    "                                           (df['Epoch'] == 'Prenourishment')],\n",
    "                df['Clutch Count'].loc[(df['Area']=='Control') &\n",
    "                                           (df['Epoch'] == 'PostNourishment')], \n",
    "                nan_policy='omit', equal_var=True)"
   ]
  },
  {
   "cell_type": "code",
   "execution_count": null,
   "metadata": {},
   "outputs": [],
   "source": [
    "# compares hatch success in the treatment area, pre vs post-nourishment\n",
    "stats.ttest_ind(df['Clutch Count'].loc[(df['Area']=='Treatment') &\n",
    "                                           (df['Epoch'] == 'Prenourishment')],\n",
    "                df['Clutch Count'].loc[(df['Area']=='Treatment') &\n",
    "                                           (df['Epoch'] == 'PostNourishment')], \n",
    "                nan_policy='omit', equal_var=False)"
   ]
  },
  {
   "cell_type": "markdown",
   "metadata": {},
   "source": [
    "### Emergence:"
   ]
  },
  {
   "cell_type": "code",
   "execution_count": null,
   "metadata": {},
   "outputs": [],
   "source": [
    "# compares hatch success in the control area, pre vs post-nourishment\n",
    "stats.ttest_ind(df['Emergence'].loc[(df['Area']=='Control') &\n",
    "                                           (df['Epoch'] == 'Prenourishment')],\n",
    "                df['Emergence'].loc[(df['Area']=='Control') &\n",
    "                                           (df['Epoch'] == 'PostNourishment')], \n",
    "                nan_policy='omit', equal_var=True)"
   ]
  },
  {
   "cell_type": "code",
   "execution_count": null,
   "metadata": {},
   "outputs": [],
   "source": [
    "# compares hatch success in the treatment area, pre vs post-nourishment\n",
    "stats.ttest_ind(df['Emergence'].loc[(df['Area']=='Treatment') &\n",
    "                                           (df['Epoch'] == 'Prenourishment')],\n",
    "                df['Emergence'].loc[(df['Area']=='Treatment') &\n",
    "                                           (df['Epoch'] == 'PostNourishment')], \n",
    "                nan_policy='omit', equal_var=False)"
   ]
  },
  {
   "cell_type": "markdown",
   "metadata": {},
   "source": [
    "at the 0.05 level perhaps we could consider rejecting $H_0$ for % emergence in the treatment area pre vs post-nourishment"
   ]
  },
  {
   "cell_type": "code",
   "execution_count": null,
   "metadata": {},
   "outputs": [],
   "source": []
  },
  {
   "cell_type": "code",
   "execution_count": null,
   "metadata": {},
   "outputs": [],
   "source": [
    "### ------------------------------------------------------------------------------------------------------"
   ]
  },
  {
   "cell_type": "code",
   "execution_count": null,
   "metadata": {},
   "outputs": [],
   "source": []
  },
  {
   "cell_type": "code",
   "execution_count": null,
   "metadata": {},
   "outputs": [],
   "source": []
  },
  {
   "cell_type": "code",
   "execution_count": null,
   "metadata": {},
   "outputs": [],
   "source": [
    "weightstats.ttest_ind(df['Emergence'].loc[(df['Area']=='Treatment') &\n",
    "                                           (df['Epoch'] == 'Prenourishment')],\n",
    "                df['Emergence'].loc[(df['Area']=='Treatment') &\n",
    "                                           (df['Epoch'] == 'PostNourishment')],\n",
    "                     alternative='two-sided', usevar='unequal')"
   ]
  },
  {
   "cell_type": "markdown",
   "metadata": {},
   "source": [
    "The plots suggest that species Cc is at least somewhat less sensitive to nest relocation than are its Cm brethren. Left alone, species Cm enjoys a higher degree of hatching success than does Cc, but move the nest and hatching drops to levels more comparable to Cc. Cm emergence successes, on par with Cc when the next remains undisturbed, drop below Cc levels with disturbance. \n",
    "\n",
    "The decloine in successful hatchings in the Cm group between undisturbed and disturbed nest sites seems important. Are these differences significant?\n",
    "\n",
    "Let's run a two-sample Student's T to find out:\n",
    "\n",
    "$ H_0$ = there is no cogent evidence to support the argument that a significant difference exists between disturbed and undisturbed Cm nests on hatching success </br>\n",
    "$ H_1$ = there is evidence to support the argument that differences do exist for nests disturbed by relocation vs. those that remain in situ, and so we are justified in rejecting $H_0 $ </br>\n",
    "$\\alpha = 0.5$"
   ]
  },
  {
   "cell_type": "code",
   "execution_count": null,
   "metadata": {},
   "outputs": [],
   "source": [
    "stats.ttest_ind(df['Hatch Success'].loc[(df['Species']=='Cm') & (df['Relocation']=='relocated')], \\\n",
    "                df['Hatch Success'].loc[(df['Species']=='Cm') & (df['Relocation']=='in situ')], nan_policy='omit', equal_var=False)"
   ]
  },
  {
   "cell_type": "markdown",
   "metadata": {},
   "source": [
    "p = 0.08. At $\\alpha = 0.5$ we are not inclined to reject $H_0$ and so would reasonably conclude that there is no real difference between Cm nest disturbed vs. those left alone. \n",
    "\n",
    "Why?"
   ]
  },
  {
   "cell_type": "markdown",
   "metadata": {},
   "source": [
    "If we look at the number of data samples for Cc vs. Cm in the turtles nesting database we find that for the former (Cc) there are more than 500 entries. For the latter, on the other hand, there are but 23. Hmm... \n",
    "\n",
    "!"
   ]
  },
  {
   "cell_type": "markdown",
   "metadata": {},
   "source": [
    "Question 2: Is there a detectable difference between turtle hatching and emergence success before and after the summer, 2014 renourishment between the two turtle species?"
   ]
  },
  {
   "cell_type": "code",
   "execution_count": null,
   "metadata": {},
   "outputs": [],
   "source": [
    "df"
   ]
  },
  {
   "cell_type": "markdown",
   "metadata": {},
   "source": [
    "### Based on the differing results seen in the before and after renourishment hatch success rates (as bar heights in the left plot) for the in situ Caretta caretta nests in the control subregion, a first order conclusion is that these are significantly different. But, are they? \n",
    "\n",
    "$H_0$: there is no significant difference between hatch success rates before and after beach renourishment in the control subregion of the survey site for Caretta careta nest not relocated prior to hatching\n",
    "\n",
    "$H_1$: there is a difference between hatch success before and after renourishment for Caretta caretta for nests not moved prior to hatching"
   ]
  },
  {
   "cell_type": "code",
   "execution_count": null,
   "metadata": {},
   "outputs": [],
   "source": [
    "stats.ttest_ind(df_cc['Hatch Success'].loc[(df_cc['Transect_Type']=='Control') & \n",
    "                                           (df_cc['Relocation']=='in situ') &\n",
    "                                           (df_cc['PrePost'] == 'Before')],\n",
    "                df_cc['Hatch Success'].loc[(df_cc['Transect_Type']=='Control') & \n",
    "                                           (df_cc['Relocation']=='in situ') &\n",
    "                                           (df_cc['PrePost'] == 'After')], \n",
    "                nan_policy='omit', equal_var=False)"
   ]
  }
 ],
 "metadata": {
  "kernelspec": {
   "display_name": "Python 3 (ipykernel)",
   "language": "python",
   "name": "python3"
  },
  "language_info": {
   "codemirror_mode": {
    "name": "ipython",
    "version": 3
   },
   "file_extension": ".py",
   "mimetype": "text/x-python",
   "name": "python",
   "nbconvert_exporter": "python",
   "pygments_lexer": "ipython3",
   "version": "3.9.7"
  }
 },
 "nbformat": 4,
 "nbformat_minor": 4
}
