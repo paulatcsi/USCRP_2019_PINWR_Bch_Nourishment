{
 "cells": [
  {
   "cell_type": "markdown",
   "id": "865f5e4f-2ba1-4026-8763-a87190485976",
   "metadata": {},
   "source": [
    "# Storms Impacting the Pea Island Study Area"
   ]
  },
  {
   "cell_type": "code",
   "execution_count": 1,
   "id": "7d5d4197-2560-45e9-af28-f4a715dd0994",
   "metadata": {},
   "outputs": [],
   "source": [
    "import pandas as pd\n",
    "import matplotlib.pyplot as plt\n",
    "import seaborn as sns\n"
   ]
  },
  {
   "cell_type": "code",
   "execution_count": 3,
   "id": "a18220c9-4674-4f07-86e7-605bf00f7d14",
   "metadata": {},
   "outputs": [],
   "source": [
    "hurricanes = {2003:['Hurricane', 'Isabel'], 2004:['Hurricane','Charley]',2004:['Hurricane','Alex'],2005:['Hurricane','Wilma']\n",
    "             ,2005:['Hurricane','Ophelia'],2010:['Hurricane','Earl'],2011:['Hurricane','Irene'], 2012:['Hurricane','Sandy']\n",
    "             , 2014:['Hurricane','Arthur'], 2016:['Hurricane','Matthew'], 2017:['Hurricane','Gert'], 2017:['Hurricane','Jose']\n",
    "             ,2017:['Hurricane','Maria'], 2018:['Hurricane','Chris'], 2018:['Hurricane','Florence'], 2019:['Hurricane','Dorian']\n",
    "             , 2020:['Hurricane','Isaias']}\n",
    "\n",
    "tropical_storms = {2000:'TS Helene', 2002:'TS Arthur', 2002:'TS Gustav', 2002:'TS Kyle', 2004:'TS Hermine', 2004:'TS Gaston',\n",
    "                   2006:'TS Ernesto', 2006:'TS Beryl', 2007:'TS Gabrielle', 2008:'TS Hanna', 2008:'TS Cristobal',\n",
    "                   2011:'TS Bret', 2012:'TS Beryl', 2014:'TS Bertha', 2015:'TS Ana', 2016:'TS Bonnie', 2018:'TS Three',\n",
    "                   2018:'TS Michael', 2019:'TS Erin', 2020:' TS Omar', 2020:'TS Eta', 2020:'TS Arthur', 2020:'TS Fay'} "
   ]
  },
  {
   "cell_type": "code",
   "execution_count": 5,
   "id": "58ced5a6-ef22-45f2-b83f-c239953d9f7d",
   "metadata": {},
   "outputs": [
    {
     "ename": "TypeError",
     "evalue": "__init__() got an unexpected keyword argument 'col_names'",
     "output_type": "error",
     "traceback": [
      "\u001b[0;31m---------------------------------------------------------------------------\u001b[0m",
      "\u001b[0;31mTypeError\u001b[0m                                 Traceback (most recent call last)",
      "\u001b[0;32m/var/folders/3w/8xs3hkbj1g9b2dm_b7jv74m4gj3q4f/T/ipykernel_61957/664719036.py\u001b[0m in \u001b[0;36m<module>\u001b[0;34m\u001b[0m\n\u001b[0;32m----> 1\u001b[0;31m \u001b[0mdf_h\u001b[0m \u001b[0;34m=\u001b[0m \u001b[0mpd\u001b[0m\u001b[0;34m.\u001b[0m\u001b[0mDataFrame\u001b[0m\u001b[0;34m(\u001b[0m\u001b[0mhurricanes\u001b[0m\u001b[0;34m,\u001b[0m \u001b[0mcol_names\u001b[0m\u001b[0;34m=\u001b[0m\u001b[0;34m[\u001b[0m\u001b[0;34m'Year'\u001b[0m\u001b[0;34m,\u001b[0m \u001b[0;34m'Storm Name'\u001b[0m\u001b[0;34m]\u001b[0m\u001b[0;34m)\u001b[0m\u001b[0;34m\u001b[0m\u001b[0;34m\u001b[0m\u001b[0m\n\u001b[0m\u001b[1;32m      2\u001b[0m \u001b[0mdf_h\u001b[0m\u001b[0;34m\u001b[0m\u001b[0;34m\u001b[0m\u001b[0m\n",
      "\u001b[0;31mTypeError\u001b[0m: __init__() got an unexpected keyword argument 'col_names'"
     ]
    }
   ],
   "source": [
    "df_h = pd.DataFrame,from_dict(hurricanes, columns=['Year', 'Storm Name'])\n",
    "df_h"
   ]
  },
  {
   "cell_type": "code",
   "execution_count": null,
   "id": "91ca9c41-39f2-45ce-91db-19735adee415",
   "metadata": {},
   "outputs": [],
   "source": []
  }
 ],
 "metadata": {
  "kernelspec": {
   "display_name": "Python 3 (ipykernel)",
   "language": "python",
   "name": "python3"
  },
  "language_info": {
   "codemirror_mode": {
    "name": "ipython",
    "version": 3
   },
   "file_extension": ".py",
   "mimetype": "text/x-python",
   "name": "python",
   "nbconvert_exporter": "python",
   "pygments_lexer": "ipython3",
   "version": "3.9.7"
  }
 },
 "nbformat": 4,
 "nbformat_minor": 5
}
